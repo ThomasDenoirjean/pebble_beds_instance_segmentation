{
 "cells": [
  {
   "cell_type": "markdown",
   "id": "41ce7a9b",
   "metadata": {},
   "source": [
    "Run the following cell to clear your processed data folders"
   ]
  },
  {
   "cell_type": "code",
   "execution_count": 1,
   "id": "0a8da5e2",
   "metadata": {},
   "outputs": [],
   "source": [
    "!rm -i data_processed/ortho_croped/R_channel/2013/*  -rf"
   ]
  },
  {
   "cell_type": "code",
   "execution_count": 2,
   "id": "013c6a46",
   "metadata": {},
   "outputs": [],
   "source": [
    "!rm -i data_processed/mnt_croped/2013/*  -rf"
   ]
  },
  {
   "cell_type": "code",
   "execution_count": 3,
   "id": "ad742a27",
   "metadata": {},
   "outputs": [],
   "source": [
    "!rm -i data_processed/seg_mask_croped/2013/*  -rf"
   ]
  },
  {
   "cell_type": "markdown",
   "id": "6dcbd26e",
   "metadata": {},
   "source": [
    "# Data processing"
   ]
  },
  {
   "cell_type": "markdown",
   "id": "4cc218f1",
   "metadata": {},
   "source": [
    "## TIF image cropping"
   ]
  },
  {
   "cell_type": "markdown",
   "id": "a01fb3c0",
   "metadata": {},
   "source": [
    "The dataset is composed of three datasource, all TIF image:\n",
    "- the `ortho_YEAR.tif.ovr`: the satellite picture of the river\n",
    "- the `shape_YEAR_tif`: the segmentation mask of the bed ofpebbles\n",
    "- the `mnt_relatif_YEAR.tif`: the blablablabla # TODO\n",
    "\n",
    "The tif being too large (71618 x 32460 pixels) to be handled in an np.array, we\n",
    "will create subimage by cropping the original TIFs, and removing the subimages\n",
    "containing no data (filled with -inf pixel value)"
   ]
  },
  {
   "cell_type": "code",
   "execution_count": 4,
   "id": "f4f6d865",
   "metadata": {},
   "outputs": [],
   "source": [
    "from PIL import Image\n",
    "import matplotlib.pyplot as plt\n",
    "\n",
    "Image.MAX_IMAGE_PIXELS = None"
   ]
  },
  {
   "cell_type": "code",
   "execution_count": 5,
   "id": "dd1cd78a",
   "metadata": {},
   "outputs": [
    {
     "data": {
      "text/plain": [
       "[30, 60]"
      ]
     },
     "execution_count": 5,
     "metadata": {},
     "output_type": "execute_result"
    }
   ],
   "source": [
    "img_width = 32460\n",
    "\n",
    "num_splits_width = []\n",
    "\n",
    "for i in range(30, 200 + 1):\n",
    "    if img_width % i == 0:\n",
    "        num_splits_width.append(i)\n",
    "\n",
    "num_splits_width"
   ]
  },
  {
   "cell_type": "code",
   "execution_count": 6,
   "id": "9518c658",
   "metadata": {},
   "outputs": [
    {
     "data": {
      "text/plain": [
       "541.0"
      ]
     },
     "execution_count": 6,
     "metadata": {},
     "output_type": "execute_result"
    }
   ],
   "source": [
    "step_width = img_width / 60\n",
    "step_width"
   ]
  },
  {
   "cell_type": "markdown",
   "id": "8e6f8779",
   "metadata": {},
   "source": [
    "We will create 60 vertical splits of 541 px."
   ]
  },
  {
   "cell_type": "code",
   "execution_count": 7,
   "id": "8c8552e2",
   "metadata": {},
   "outputs": [
    {
     "data": {
      "text/plain": [
       "[30, 31, 33, 35, 42, 55, 62, 66, 70, 77, 93, 105, 110, 154, 155, 165, 186]"
      ]
     },
     "execution_count": 7,
     "metadata": {},
     "output_type": "execute_result"
    }
   ],
   "source": [
    "img_height = 71618 - 8\n",
    "\n",
    "num_splits_height = []\n",
    "\n",
    "for i in range(30, 200 + 1):\n",
    "    if img_height % i == 0:\n",
    "        num_splits_height.append(i)\n",
    "\n",
    "num_splits_height"
   ]
  },
  {
   "cell_type": "code",
   "execution_count": 8,
   "id": "5d9e41a8",
   "metadata": {},
   "outputs": [
    {
     "data": {
      "text/plain": [
       "385.0"
      ]
     },
     "execution_count": 8,
     "metadata": {},
     "output_type": "execute_result"
    }
   ],
   "source": [
    "step_height = img_height / 186\n",
    "step_height"
   ]
  },
  {
   "cell_type": "markdown",
   "id": "f3141f4a",
   "metadata": {},
   "source": [
    "We will create 186 horizontal splits of 385 px"
   ]
  },
  {
   "cell_type": "code",
   "execution_count": 9,
   "id": "80b9fe63",
   "metadata": {},
   "outputs": [],
   "source": [
    "from tqdm import tqdm\n",
    "import numpy as np\n",
    "\n",
    "def crop_images(tif_file, tif_cat, output_dir, step_width=541, step_height=385, num_splits_width=60, num_splits_height=186):\n",
    "    for i in tqdm(range(1, num_splits_width + 1)): # width\n",
    "        for j in range(1, num_splits_height + 1): # height\n",
    "            crop_coordinate = ((i-1)*step_width, (j-1)*step_height, i*step_width, j*step_height)\n",
    "            crop = tif_file.crop(crop_coordinate)\n",
    "            crop_array = np.array(crop)\n",
    "\n",
    "            if not len(np.unique(crop_array)) == 1: # toutes les valeurs dans l'array sont -inf ou -3.4028235e+38\n",
    "                np.save(f'{output_dir}/{tif_cat}_{crop_coordinate}.npy', crop_array)"
   ]
  },
  {
   "cell_type": "markdown",
   "id": "d0062de3",
   "metadata": {},
   "source": [
    "### Orthophoto"
   ]
  },
  {
   "cell_type": "code",
   "execution_count": null,
   "id": "53619da4",
   "metadata": {},
   "outputs": [
    {
     "name": "stdout",
     "output_type": "stream",
     "text": [
      "16230 35809\n",
      "(71618, 32460)\n"
     ]
    },
    {
     "name": "stderr",
     "output_type": "stream",
     "text": [
      "100%|██████████| 60/60 [00:26<00:00,  2.30it/s]\n"
     ]
    },
    {
     "name": "stdout",
     "output_type": "stream",
     "text": [
      "16230 35809\n"
     ]
    },
    {
     "ename": "",
     "evalue": "",
     "output_type": "error",
     "traceback": [
      "\u001b[1;31mThe Kernel crashed while executing code in the current cell or a previous cell. \n",
      "\u001b[1;31mPlease review the code in the cell(s) to identify a possible cause of the failure. \n",
      "\u001b[1;31mClick <a href='https://aka.ms/vscodeJupyterKernelCrash'>here</a> for more info. \n",
      "\u001b[1;31mView Jupyter <a href='command:jupyter.viewOutput'>log</a> for further details."
     ]
    }
   ],
   "source": [
    "from scipy.ndimage import zoom\n",
    "import numpy as np\n",
    "from tqdm import tqdm\n",
    "\n",
    "# channels = ['R', 'G', 'B']\n",
    "channels = ['R']\n",
    "\n",
    "for channel in channels:\n",
    "    ortho = Image.open(f\"data_raw/2013/ortho_2013_{channel}_channel.tif\")\n",
    "    ortho.load()\n",
    "\n",
    "    print(ortho.width, ortho.height) # l'ortho est deux fois plus petite que les autres TIFS\n",
    "\n",
    "    ortho = np.array(ortho)\n",
    "\n",
    "    scale_factor = 2\n",
    "    upscaled_ortho = zoom(ortho, scale_factor, order=1)  # order=1 for bilinear interpolation\n",
    "\n",
    "    print(upscaled_ortho.shape)\n",
    "\n",
    "    del ortho\n",
    "\n",
    "    for i in tqdm(range(60 + 1)):   # largeur\n",
    "        for j in range(186 + 1):    # hauteur\n",
    "            x1 = int((i-1) * step_width)\n",
    "            y1 = int((j-1) * step_height)\n",
    "            x2 = int(i*step_width)\n",
    "            y2 = int(j*step_height)\n",
    "\n",
    "            crop_array = upscaled_ortho[y1:y2, x1:x2]\n",
    "\n",
    "            # Vérifie si le crop contient autre chose que des valeurs constantes\n",
    "            if not np.all(crop_array == crop_array.flat[0]):\n",
    "                np.save(f'data_processed/ortho_croped/{channel}_channel/2013/ortho_{channel}_channel_{x1}_{y1}_{x2}_{y2}.npy', crop_array)\n"
   ]
  },
  {
   "cell_type": "code",
   "execution_count": 28,
   "id": "f8f3ee00",
   "metadata": {},
   "outputs": [
    {
     "data": {
      "text/plain": [
       "1298"
      ]
     },
     "execution_count": 28,
     "metadata": {},
     "output_type": "execute_result"
    }
   ],
   "source": [
    "import os\n",
    "\n",
    "len(os.listdir('data_processed/ortho_croped/R_channel/2013'))"
   ]
  },
  {
   "cell_type": "markdown",
   "id": "4cb34b1c",
   "metadata": {},
   "source": [
    "Il y a trop d'image générées !!! C'est normal car par rapport au mnt l'ortho est plus large => on supprimera les photos d'ortho en trop vu qu'on va chercher à incorporer les deux sources de données au modèle."
   ]
  },
  {
   "cell_type": "code",
   "execution_count": 44,
   "id": "23e1f5b0",
   "metadata": {},
   "outputs": [],
   "source": [
    "del ortho"
   ]
  },
  {
   "cell_type": "markdown",
   "id": "2af1534d",
   "metadata": {},
   "source": [
    "### Segmentation mask"
   ]
  },
  {
   "cell_type": "code",
   "execution_count": 64,
   "id": "a9d90952",
   "metadata": {},
   "outputs": [],
   "source": [
    "## TODO rajouter des shutil pour supprimer les dossiers avant de régénérer les données"
   ]
  },
  {
   "cell_type": "code",
   "execution_count": 18,
   "id": "2f87ad28",
   "metadata": {},
   "outputs": [
    {
     "name": "stdout",
     "output_type": "stream",
     "text": [
      "32460 71618\n"
     ]
    }
   ],
   "source": [
    "seg_mask = Image.open(\"data_raw/2013/shape_2013_tif.tif\")\n",
    "seg_mask.load()\n",
    "\n",
    "print(seg_mask.width, seg_mask.height)\n",
    "\n",
    "# seg_mask = seg_mask.resize((16230, 35809))\n",
    "\n",
    "# assert(seg_mask.width == 16230)\n",
    "# assert(seg_mask.height == 35809)"
   ]
  },
  {
   "cell_type": "code",
   "execution_count": 19,
   "id": "03e2dfd6",
   "metadata": {},
   "outputs": [
    {
     "name": "stderr",
     "output_type": "stream",
     "text": [
      "  0%|          | 0/60 [00:00<?, ?it/s]"
     ]
    },
    {
     "name": "stderr",
     "output_type": "stream",
     "text": [
      "100%|██████████| 60/60 [00:52<00:00,  1.15it/s]\n"
     ]
    }
   ],
   "source": [
    "crop_images(seg_mask, 'seg_mask', 'data_processed/seg_mask_croped/2013')"
   ]
  },
  {
   "cell_type": "code",
   "execution_count": 20,
   "id": "2ecbe9ac",
   "metadata": {},
   "outputs": [
    {
     "name": "stdout",
     "output_type": "stream",
     "text": [
      "130 images cropées conservées sur 11160 générées\n",
      "Les images cropées ont la shape suivante : (385, 541)\n"
     ]
    }
   ],
   "source": [
    "import os\n",
    "\n",
    "seg_mask_crop_dir = 'data_processed/seg_mask_croped/2013'\n",
    "\n",
    "seg_mask_crop_list = os.listdir(seg_mask_crop_dir)\n",
    "\n",
    "print(f'{len(seg_mask_crop_list)} images cropées conservées sur {60*186} générées')\n",
    "print(f'Les images cropées ont la shape suivante : {np.load(f\"{seg_mask_crop_dir}/{seg_mask_crop_list[0]}\").shape}')"
   ]
  },
  {
   "cell_type": "code",
   "execution_count": 21,
   "id": "8f8ee03b",
   "metadata": {},
   "outputs": [],
   "source": [
    "del seg_mask"
   ]
  },
  {
   "cell_type": "markdown",
   "id": "5f8d519c",
   "metadata": {},
   "source": [
    "### MNT"
   ]
  },
  {
   "cell_type": "code",
   "execution_count": 22,
   "id": "d7c734b3",
   "metadata": {},
   "outputs": [
    {
     "name": "stdout",
     "output_type": "stream",
     "text": [
      "Height of the picture: 71618, width: 32460\n"
     ]
    }
   ],
   "source": [
    "mnt = Image.open(\"data_raw/2013/mnt_relatif.tif\")\n",
    "mnt.load()\n",
    "\n",
    "print(f'Height of the picture: {mnt.height}, width: {mnt.width}')\n",
    "assert(mnt.width == 32460)\n",
    "assert(mnt.height == 71618)\n",
    "\n",
    "##### TODO mettre tous le code de description des caractéristiques des images dans la première section de preprocessing\n",
    "# print(f'Width of croped img: {32460/60}')\n",
    "# step_width = int(mnt.width/60)\n",
    "\n",
    "# print(f'Height of croped img (removing 8 pixels to be able to divide it with int): {(71618-8)/186}')\n",
    "# setp_height = int((mnt.height-8)/186)"
   ]
  },
  {
   "cell_type": "code",
   "execution_count": 23,
   "id": "61c512fb",
   "metadata": {},
   "outputs": [
    {
     "name": "stderr",
     "output_type": "stream",
     "text": [
      "  0%|          | 0/60 [00:00<?, ?it/s]"
     ]
    },
    {
     "name": "stderr",
     "output_type": "stream",
     "text": [
      "100%|██████████| 60/60 [00:17<00:00,  3.43it/s]\n"
     ]
    }
   ],
   "source": [
    "crop_images(mnt, 'mnt', 'data_processed/mnt_croped/2013')"
   ]
  },
  {
   "cell_type": "code",
   "execution_count": 24,
   "id": "155fa813",
   "metadata": {},
   "outputs": [
    {
     "name": "stdout",
     "output_type": "stream",
     "text": [
      "523 images cropées conservées sur 11160 générées\n",
      "Les images cropées ont la shape suivante : (385, 541)\n"
     ]
    }
   ],
   "source": [
    "import os\n",
    "import numpy as np\n",
    "\n",
    "mnt_crop_dir = 'data_processed/mnt_croped/2013'\n",
    "\n",
    "mnt_crop_list = os.listdir(mnt_crop_dir)\n",
    "\n",
    "print(f'{len(mnt_crop_list)} images cropées conservées sur {60*186} générées')\n",
    "print(f'Les images cropées ont la shape suivante : {np.load(f\"{mnt_crop_dir}/{mnt_crop_list[0]}\").shape}')"
   ]
  },
  {
   "cell_type": "code",
   "execution_count": 25,
   "id": "20a02153",
   "metadata": {},
   "outputs": [],
   "source": [
    "del mnt"
   ]
  },
  {
   "cell_type": "markdown",
   "id": "c78ff2c4",
   "metadata": {},
   "source": [
    "### Creation of missing segmask"
   ]
  },
  {
   "cell_type": "code",
   "execution_count": 26,
   "id": "9cf8c380",
   "metadata": {},
   "outputs": [
    {
     "data": {
      "text/plain": [
       "(130, 523)"
      ]
     },
     "execution_count": 26,
     "metadata": {},
     "output_type": "execute_result"
    }
   ],
   "source": [
    "len(seg_mask_crop_list), len(mnt_crop_list)"
   ]
  },
  {
   "cell_type": "markdown",
   "id": "11bf1fe4",
   "metadata": {},
   "source": [
    "Only 130 out of the 523 needed segmasks were creating via cropping, as most of \n",
    "the ortho and mnt crops don't have peebles bed on it. Thus, we will create the \n",
    "missing segmasks, filled with 0."
   ]
  },
  {
   "cell_type": "code",
   "execution_count": 27,
   "id": "39940f2c",
   "metadata": {},
   "outputs": [],
   "source": [
    "seg_mask_crop_dir = 'data_processed/seg_mask_croped/2013'\n",
    "seg_mask_crop_list = os.listdir(seg_mask_crop_dir)\n",
    "\n",
    "mnt_crop_dir = 'data_processed/mnt_croped/2013'\n",
    "mnt_crop_list = os.listdir(mnt_crop_dir)\n",
    "\n",
    "crop_shape = (385, 541)\n",
    "\n",
    "for mnt in mnt_crop_list:\n",
    "    crop_coordinate = mnt.split('_')[-1].split('.')[0]\n",
    "\n",
    "    seg_mask_exist = False\n",
    "\n",
    "    for seg_mask in seg_mask_crop_list:\n",
    "        if crop_coordinate in seg_mask:\n",
    "            seg_mask_exist = True\n",
    "            break\n",
    "\n",
    "    if not seg_mask_exist:\n",
    "        seg_mask = np.zeros(crop_shape)\n",
    "        np.save(f'{seg_mask_crop_dir}/seg_mask_{crop_coordinate}.npy', seg_mask)\n"
   ]
  },
  {
   "cell_type": "markdown",
   "id": "c2c65b78",
   "metadata": {},
   "source": [
    "Let's check that we have the same number of crops and at the same coordinates"
   ]
  },
  {
   "cell_type": "code",
   "execution_count": 29,
   "id": "7ffabb17",
   "metadata": {},
   "outputs": [],
   "source": [
    "seg_mask_crop_dir = 'data_processed/seg_mask_croped/2013'\n",
    "seg_mask_crop_list = os.listdir(seg_mask_crop_dir)\n",
    "seg_mask_crop_list.sort()\n",
    "\n",
    "mnt_crop_dir = 'data_processed/mnt_croped/2013'\n",
    "mnt_crop_list = os.listdir(mnt_crop_dir)\n",
    "mnt_crop_list.sort()\n",
    "\n",
    "assert len(mnt_crop_list) == len(seg_mask_crop_list)\n",
    "\n",
    "for seg_mask, mnt in zip(seg_mask_crop_list, mnt_crop_list):\n",
    "    seg_mask_coord = seg_mask.split('_')[-1].split('.')[0]\n",
    "    mnt_coord = mnt.split('_')[-1].split('.')[0]\n",
    "\n",
    "    assert seg_mask_coord == mnt_coord"
   ]
  },
  {
   "cell_type": "markdown",
   "id": "60c6e35a",
   "metadata": {},
   "source": [
    "### Suppression of exceeding orthophoto crops"
   ]
  },
  {
   "cell_type": "markdown",
   "id": "86d7bd43",
   "metadata": {},
   "source": [
    "Orthophoto are wider than the mnt. Thus, we have more orthophoto crops than mnt crops. As we plan to use both data as inputs for our model, we will remove the ortho crops without corresponding mnt crops."
   ]
  },
  {
   "cell_type": "code",
   "execution_count": 44,
   "id": "1cffb8fc",
   "metadata": {},
   "outputs": [
    {
     "name": "stdout",
     "output_type": "stream",
     "text": [
      "Number of ortho crops: 1298\n",
      "Number of mnt crops: 229\n"
     ]
    }
   ],
   "source": [
    "ortho_crop_dir = 'data_processed/ortho_croped/R_channel/2013'\n",
    "ortho_crop_list = os.listdir(ortho_crop_dir)\n",
    "ortho_crop_list.sort()\n",
    "\n",
    "mnt_crop_dir = 'data_processed/mnt_croped/2013'\n",
    "mnt_crop_list = os.listdir(mnt_crop_dir)\n",
    "mnt_crop_list.sort()\n",
    "\n",
    "print(f'Number of ortho crops: {len(ortho_crop_list)}')\n",
    "print(f'Number of mnt crops: {len(mnt_crop_list)}')"
   ]
  },
  {
   "cell_type": "code",
   "execution_count": 45,
   "id": "2bba2d46",
   "metadata": {},
   "outputs": [
    {
     "name": "stderr",
     "output_type": "stream",
     "text": [
      "  0%|          | 0/1298 [00:00<?, ?it/s]"
     ]
    },
    {
     "name": "stderr",
     "output_type": "stream",
     "text": [
      "100%|██████████| 1298/1298 [00:00<00:00, 6812.39it/s]\n"
     ]
    }
   ],
   "source": [
    "for ortho in tqdm(ortho_crop_list):\n",
    "    crop_coordinate = ortho.split('_')[-1].split('.')[0]\n",
    "\n",
    "    mnt_exist = False\n",
    "\n",
    "    for mnt in mnt_crop_list:\n",
    "        if crop_coordinate in mnt:\n",
    "            mnt_exist = True\n",
    "            break\n",
    "\n",
    "    if not mnt_exist:\n",
    "        os.remove(f'{ortho_crop_dir}/{ortho}')"
   ]
  },
  {
   "cell_type": "code",
   "execution_count": 46,
   "id": "4f7c328c",
   "metadata": {},
   "outputs": [
    {
     "ename": "AssertionError",
     "evalue": "",
     "output_type": "error",
     "traceback": [
      "\u001b[31m---------------------------------------------------------------------------\u001b[39m",
      "\u001b[31mAssertionError\u001b[39m                            Traceback (most recent call last)",
      "\u001b[36mCell\u001b[39m\u001b[36m \u001b[39m\u001b[32mIn[46]\u001b[39m\u001b[32m, line 6\u001b[39m\n\u001b[32m      3\u001b[39m ortho_crop_list = os.listdir(ortho_crop_dir)\n\u001b[32m      4\u001b[39m ortho_crop_list.sort()\n\u001b[32m----> \u001b[39m\u001b[32m6\u001b[39m \u001b[38;5;28;01massert\u001b[39;00m \u001b[38;5;28mlen\u001b[39m(mnt_crop_list) == \u001b[38;5;28mlen\u001b[39m(ortho_crop_list)\n\u001b[32m      8\u001b[39m \u001b[38;5;28;01mfor\u001b[39;00m ortho, mnt \u001b[38;5;129;01min\u001b[39;00m \u001b[38;5;28mzip\u001b[39m(ortho_crop_list, mnt_crop_list):\n\u001b[32m      9\u001b[39m     ortho_coord = ortho.split(\u001b[33m'\u001b[39m\u001b[33m_\u001b[39m\u001b[33m'\u001b[39m)[-\u001b[32m1\u001b[39m].split(\u001b[33m'\u001b[39m\u001b[33m.\u001b[39m\u001b[33m'\u001b[39m)[\u001b[32m0\u001b[39m]\n",
      "\u001b[31mAssertionError\u001b[39m: "
     ]
    }
   ],
   "source": [
    "# reload ortho dir to track file suppression\n",
    "ortho_crop_dir = 'data_processed/ortho_croped/R_channel/2013'\n",
    "ortho_crop_list = os.listdir(ortho_crop_dir)\n",
    "ortho_crop_list.sort()\n",
    "\n",
    "assert len(mnt_crop_list) == len(ortho_crop_list)\n",
    "\n",
    "for ortho, mnt in zip(ortho_crop_list, mnt_crop_list):\n",
    "    ortho_coord = ortho.split('_')[-1].split('.')[0]\n",
    "    mnt_coord = mnt.split('_')[-1].split('.')[0]\n",
    "\n",
    "    assert ortho_coord == mnt_coord"
   ]
  },
  {
   "cell_type": "markdown",
   "id": "d893bac8",
   "metadata": {},
   "source": [
    "### Checking data type"
   ]
  },
  {
   "cell_type": "markdown",
   "id": "fe5da542",
   "metadata": {},
   "source": [
    "#### Seg masks"
   ]
  },
  {
   "cell_type": "code",
   "execution_count": 30,
   "id": "449f70b3",
   "metadata": {},
   "outputs": [],
   "source": [
    "import pandas as pd\n",
    "\n",
    "seg_mask_dict = {}\n",
    "\n",
    "for seg_mask in seg_mask_crop_list:\n",
    "    unique_ids = np.unique(np.load(f'{seg_mask_crop_dir}/{seg_mask}'))\n",
    "    if len(unique_ids) in seg_mask_dict.keys():\n",
    "        seg_mask_dict[len(unique_ids)] += 1\n",
    "    else:\n",
    "        seg_mask_dict.update({len(unique_ids): 1})"
   ]
  },
  {
   "cell_type": "code",
   "execution_count": 31,
   "id": "91d6cffd",
   "metadata": {},
   "outputs": [
    {
     "data": {
      "application/vnd.microsoft.datawrangler.viewer.v0+json": {
       "columns": [
        {
         "name": "index",
         "rawType": "int64",
         "type": "integer"
        },
        {
         "name": "number_of_peebles_bed",
         "rawType": "int64",
         "type": "integer"
        },
        {
         "name": "number_of_croped_seg_mask",
         "rawType": "int64",
         "type": "integer"
        }
       ],
       "ref": "fbe3462f-6322-45d0-bd34-52364d94e471",
       "rows": [
        [
         "1",
         "0",
         "393"
        ],
        [
         "0",
         "1",
         "85"
        ],
        [
         "2",
         "2",
         "35"
        ],
        [
         "3",
         "3",
         "8"
        ],
        [
         "4",
         "4",
         "2"
        ]
       ],
       "shape": {
        "columns": 2,
        "rows": 5
       }
      },
      "text/html": [
       "<div>\n",
       "<style scoped>\n",
       "    .dataframe tbody tr th:only-of-type {\n",
       "        vertical-align: middle;\n",
       "    }\n",
       "\n",
       "    .dataframe tbody tr th {\n",
       "        vertical-align: top;\n",
       "    }\n",
       "\n",
       "    .dataframe thead th {\n",
       "        text-align: right;\n",
       "    }\n",
       "</style>\n",
       "<table border=\"1\" class=\"dataframe\">\n",
       "  <thead>\n",
       "    <tr style=\"text-align: right;\">\n",
       "      <th></th>\n",
       "      <th>number_of_peebles_bed</th>\n",
       "      <th>number_of_croped_seg_mask</th>\n",
       "    </tr>\n",
       "  </thead>\n",
       "  <tbody>\n",
       "    <tr>\n",
       "      <th>1</th>\n",
       "      <td>0</td>\n",
       "      <td>393</td>\n",
       "    </tr>\n",
       "    <tr>\n",
       "      <th>0</th>\n",
       "      <td>1</td>\n",
       "      <td>85</td>\n",
       "    </tr>\n",
       "    <tr>\n",
       "      <th>2</th>\n",
       "      <td>2</td>\n",
       "      <td>35</td>\n",
       "    </tr>\n",
       "    <tr>\n",
       "      <th>3</th>\n",
       "      <td>3</td>\n",
       "      <td>8</td>\n",
       "    </tr>\n",
       "    <tr>\n",
       "      <th>4</th>\n",
       "      <td>4</td>\n",
       "      <td>2</td>\n",
       "    </tr>\n",
       "  </tbody>\n",
       "</table>\n",
       "</div>"
      ],
      "text/plain": [
       "   number_of_peebles_bed  number_of_croped_seg_mask\n",
       "1                      0                        393\n",
       "0                      1                         85\n",
       "2                      2                         35\n",
       "3                      3                          8\n",
       "4                      4                          2"
      ]
     },
     "execution_count": 31,
     "metadata": {},
     "output_type": "execute_result"
    }
   ],
   "source": [
    "df = pd.DataFrame.from_dict(seg_mask_dict, orient='index').reset_index()\n",
    "df.columns = [\"number_of_peebles_bed\", \"number_of_croped_seg_mask\"]\n",
    "df['number_of_peebles_bed'] -= 1\n",
    "df.sort_values(by='number_of_croped_seg_mask', ascending=False)"
   ]
  },
  {
   "cell_type": "markdown",
   "id": "3ef921ca",
   "metadata": {},
   "source": [
    "The vast majority of segmask don't have any peebles - this a point to keep in mind during training."
   ]
  },
  {
   "cell_type": "markdown",
   "id": "a6e62d84",
   "metadata": {},
   "source": [
    "Let's check the array of the some segmentation masks"
   ]
  },
  {
   "cell_type": "code",
   "execution_count": 32,
   "id": "5106a9db",
   "metadata": {},
   "outputs": [
    {
     "name": "stdout",
     "output_type": "stream",
     "text": [
      "[ 0 76 77]\n",
      "[ 0 76]\n",
      "[ 0 75]\n",
      "[0.]\n"
     ]
    }
   ],
   "source": [
    "print(np.unique(np.load(f'{seg_mask_crop_dir}/{seg_mask_crop_list[7]}')))\n",
    "print(np.unique(np.load(f'{seg_mask_crop_dir}/{seg_mask_crop_list[8]}')))\n",
    "print(np.unique(np.load(f'{seg_mask_crop_dir}/{seg_mask_crop_list[17]}')))\n",
    "print(np.unique(np.load(f'{seg_mask_crop_dir}/{seg_mask_crop_list[330]}')))"
   ]
  },
  {
   "cell_type": "markdown",
   "id": "98e3aa0d",
   "metadata": {},
   "source": [
    "in the instance annotation masks, the R(ed) channel encodes category ID, and the G(reen) channel encodes instance ID. Each object instance has a unique instance ID regardless of its category ID.\n",
    "So we should :\n",
    "- create a new channel to encode category ID, that will be our first channel (Red)\n",
    "- pass the actual ids into the second channel (Green)\n",
    "- create a third channel full of 0 (Blue)"
   ]
  },
  {
   "cell_type": "code",
   "execution_count": 33,
   "id": "ecb24a53",
   "metadata": {},
   "outputs": [],
   "source": [
    "import os\n",
    "import numpy as np\n",
    "\n",
    "for seg_mask in seg_mask_crop_list:\n",
    "    G_channel = np.load(f'{seg_mask_crop_dir}/{seg_mask}')\n",
    "    R_channel = np.where(G_channel > 0, 1, G_channel)\n",
    "    B_channel = np.zeros_like(G_channel)\n",
    "\n",
    "    three_channel_arr = np.array([R_channel, G_channel, B_channel])\n",
    "\n",
    "    np.save(f'{seg_mask_crop_dir}/{seg_mask}', three_channel_arr)"
   ]
  },
  {
   "cell_type": "code",
   "execution_count": 34,
   "id": "a6aba730",
   "metadata": {},
   "outputs": [
    {
     "name": "stdout",
     "output_type": "stream",
     "text": [
      "############\n",
      "[0 1]\n",
      "[ 0 76 77]\n",
      "[0]\n",
      "############\n",
      "[0 1]\n",
      "[ 0 76]\n",
      "[0]\n",
      "###########\n",
      "[0 1]\n",
      "[ 0 75]\n",
      "[0]\n",
      "###########\n",
      "[0.]\n",
      "[0.]\n",
      "[0.]\n",
      "###########\n"
     ]
    }
   ],
   "source": [
    "print('############')\n",
    "print(np.unique(np.load(f'{seg_mask_crop_dir}/{seg_mask_crop_list[7]}')[0]))\n",
    "print(np.unique(np.load(f'{seg_mask_crop_dir}/{seg_mask_crop_list[7]}')[1]))\n",
    "print(np.unique(np.load(f'{seg_mask_crop_dir}/{seg_mask_crop_list[7]}')[2]))\n",
    "print('############')\n",
    "print(np.unique(np.load(f'{seg_mask_crop_dir}/{seg_mask_crop_list[8]}')[0]))\n",
    "print(np.unique(np.load(f'{seg_mask_crop_dir}/{seg_mask_crop_list[8]}')[1]))\n",
    "print(np.unique(np.load(f'{seg_mask_crop_dir}/{seg_mask_crop_list[8]}')[2]))\n",
    "print('###########')\n",
    "print(np.unique(np.load(f'{seg_mask_crop_dir}/{seg_mask_crop_list[17]}')[0]))\n",
    "print(np.unique(np.load(f'{seg_mask_crop_dir}/{seg_mask_crop_list[17]}')[1]))\n",
    "print(np.unique(np.load(f'{seg_mask_crop_dir}/{seg_mask_crop_list[17]}')[2]))\n",
    "print('###########')\n",
    "print(np.unique(np.load(f'{seg_mask_crop_dir}/{seg_mask_crop_list[330]}')[0]))\n",
    "print(np.unique(np.load(f'{seg_mask_crop_dir}/{seg_mask_crop_list[330]}')[1]))\n",
    "print(np.unique(np.load(f'{seg_mask_crop_dir}/{seg_mask_crop_list[330]}')[2]))\n",
    "print('###########')"
   ]
  },
  {
   "cell_type": "markdown",
   "id": "379ff250",
   "metadata": {},
   "source": [
    "We have now the category ID on our first channel (Red), the instance ID in the second channel (Green) and nothing on the third one (Blue)."
   ]
  },
  {
   "cell_type": "markdown",
   "id": "6376e04c",
   "metadata": {},
   "source": [
    "#### Mnt"
   ]
  },
  {
   "cell_type": "markdown",
   "id": "4b378778",
   "metadata": {},
   "source": [
    "Let's laod a croped mnt"
   ]
  },
  {
   "cell_type": "code",
   "execution_count": 35,
   "id": "c53f5f12",
   "metadata": {},
   "outputs": [
    {
     "data": {
      "text/plain": [
       "np.float32(-3.4028235e+38)"
      ]
     },
     "execution_count": 35,
     "metadata": {},
     "output_type": "execute_result"
    }
   ],
   "source": [
    "mnt = np.load(f'{mnt_crop_dir}/{mnt_crop_list[0]}')\n",
    "\n",
    "np.min(np.unique(mnt))"
   ]
  },
  {
   "cell_type": "code",
   "execution_count": 37,
   "id": "f71bee7c",
   "metadata": {},
   "outputs": [
    {
     "data": {
      "text/plain": [
       "np.float32(-4.151123)"
      ]
     },
     "execution_count": 37,
     "metadata": {},
     "output_type": "execute_result"
    }
   ],
   "source": [
    "real_min = 0\n",
    "\n",
    "for mnt in mnt_crop_list:\n",
    "    mnt_arr = np.load(f'{mnt_crop_dir}/{mnt}')\n",
    "    mnt_min = np.min(mnt_arr[mnt_arr > -1e6])\n",
    "    if mnt_min < real_min:\n",
    "        real_min = mnt_min\n",
    "\n",
    "real_min"
   ]
  },
  {
   "cell_type": "markdown",
   "id": "f276c1f8",
   "metadata": {},
   "source": [
    "There is some `-inf` value where the mnt was not calculated. The real min is `-4.15`. We will replace these `-inf` values by `np.nan`. Also, these files have only one channel, our the model inputs has to have 3 channels, we will thus expand our array dims."
   ]
  },
  {
   "cell_type": "code",
   "execution_count": 38,
   "id": "038e72e9",
   "metadata": {},
   "outputs": [],
   "source": [
    "for mnt in mnt_crop_list:\n",
    "    mnt_arr = np.load(f'{mnt_crop_dir}/{mnt}')\n",
    "    mnt_arr = np.where(mnt_arr < -10, np.nan, mnt_arr)\n",
    "    mnt_arr = np.array([mnt_arr]*3)\n",
    "    np.save(f'{mnt_crop_dir}/{mnt}', mnt_arr)"
   ]
  },
  {
   "cell_type": "markdown",
   "id": "8a84cae2",
   "metadata": {},
   "source": [
    "## Visualisation"
   ]
  },
  {
   "cell_type": "code",
   "execution_count": 78,
   "id": "94928c0e",
   "metadata": {},
   "outputs": [],
   "source": [
    "#### TODO savoir cb j'ai de lit de caillou segmenté au total"
   ]
  },
  {
   "cell_type": "code",
   "execution_count": 39,
   "id": "76de5cbe",
   "metadata": {},
   "outputs": [],
   "source": [
    "import matplotlib.pyplot as plt\n",
    "from PIL import Image\n",
    "import os\n",
    "import numpy as np\n",
    "\n",
    "ortho_crop_dir = 'data_processed/ortho_croped/R_channel/2013'\n",
    "ortho_crop_list = os.listdir(ortho_crop_dir)\n",
    "\n",
    "seg_mask_crop_dir = 'data_processed/seg_mask_croped/2013'\n",
    "seg_mask_crop_list = os.listdir(seg_mask_crop_dir)\n",
    "\n",
    "mnt_crop_dir = 'data_processed/mnt_croped/2013'\n",
    "mnt_crop_list = os.listdir(mnt_crop_dir)\n",
    "\n",
    "ortho_crop_list.sort()\n",
    "seg_mask_crop_list.sort()\n",
    "mnt_crop_list.sort()"
   ]
  },
  {
   "cell_type": "code",
   "execution_count": 40,
   "id": "e98e1244",
   "metadata": {},
   "outputs": [
    {
     "data": {
      "text/plain": [
       "130"
      ]
     },
     "execution_count": 40,
     "metadata": {},
     "output_type": "execute_result"
    }
   ],
   "source": [
    "id_of_crops_with_pebble_bed = []\n",
    "\n",
    "for idx, label in enumerate(seg_mask_crop_list):\n",
    "  label_arr = np.load(f'{seg_mask_crop_dir}/{label}')\n",
    "  if np.sum(label_arr) > 0:\n",
    "    id_of_crops_with_pebble_bed.append(idx)\n",
    "\n",
    "len(id_of_crops_with_pebble_bed)"
   ]
  },
  {
   "cell_type": "code",
   "execution_count": 41,
   "id": "5a0ef0ad",
   "metadata": {},
   "outputs": [],
   "source": [
    "def rescale_instance_id(G_channel):\n",
    "    num_instance = len(np.unique(G_channel))\n",
    "    colors = np.uint8(np.linspace(0, 255, num_instance))[1:]\n",
    "    return colors"
   ]
  },
  {
   "cell_type": "code",
   "execution_count": 43,
   "id": "7cd7ac52",
   "metadata": {},
   "outputs": [
    {
     "data": {
      "image/png": "[encoded data removed]",
      "text/plain": [
       "<Figure size 1500x1500 with 3 Axes>"
      ]
     },
     "metadata": {},
     "output_type": "display_data"
    }
   ],
   "source": [
    "import matplotlib.cm as cm\n",
    "\n",
    "idx = id_of_crops_with_pebble_bed[3]\n",
    "\n",
    "# ortho = np.load(f'{ortho_crop_dir}/{ortho_crop_list[idx]}')\n",
    "seg_mask = np.load(f'{seg_mask_crop_dir}/{seg_mask_crop_list[idx]}')\n",
    "mnt = np.load(f'{mnt_crop_dir}/{mnt_crop_list[idx]}')\n",
    "\n",
    "seg_mask_R_channel = seg_mask[0]\n",
    "seg_mask_G_channel = seg_mask[1]\n",
    "\n",
    "colors = rescale_instance_id(seg_mask_G_channel)\n",
    "\n",
    "for color, id in zip(colors, np.unique(seg_mask_G_channel)[1:]):\n",
    "    seg_mask_G_channel = np.where(seg_mask_G_channel == id, color, seg_mask_G_channel)\n",
    "\n",
    "f, axarr = plt.subplots(1,3)\n",
    "f.set_figheight(15)\n",
    "f.set_figwidth(15)\n",
    "\n",
    "axarr[0].imshow(mnt[0])\n",
    "axarr[0].set_title(\"Image\")\n",
    "\n",
    "axarr[1].imshow(seg_mask_G_channel, cmap='inferno')\n",
    "axarr[1].set_title(\"Label\")\n",
    "\n",
    "mask = seg_mask_G_channel != 0\n",
    "\n",
    "axarr[2].imshow(mnt[0])\n",
    "axarr[2].imshow(np.ma.masked_where(~mask, seg_mask_G_channel),\n",
    "                cmap=cm.gray, alpha=0.5, vmin=0, vmax=255)\n",
    "axarr[2].set_title(\"Image + Label (transparence)\");\n",
    "\n",
    "# axarr[3].imshow(ortho)\n",
    "# axarr[3].set_title(\"Ortho\")"
   ]
  },
  {
   "cell_type": "code",
   "execution_count": 44,
   "id": "5eafeb3b",
   "metadata": {},
   "outputs": [
    {
     "data": {
      "text/plain": [
       "np.uint8(160)"
      ]
     },
     "execution_count": 44,
     "metadata": {},
     "output_type": "execute_result"
    }
   ],
   "source": [
    "highest_bed_id = 0\n",
    "\n",
    "for seg_mask in seg_mask_crop_list:\n",
    "    mask = np.load(f'{seg_mask_crop_dir}/{seg_mask}')\n",
    "    mask_G_channel = mask[1]\n",
    "    max_id = np.max(mask_G_channel)\n",
    "    if max_id > highest_bed_id:\n",
    "        highest_bed_id = max_id\n",
    "\n",
    "highest_bed_id"
   ]
  },
  {
   "cell_type": "markdown",
   "id": "a39260f7",
   "metadata": {},
   "source": [
    "In all our data, 160 pebble beds were labeled, and are present across 130 croped images."
   ]
  }
 ],
 "metadata": {
  "kernelspec": {
   "display_name": "berge_seg",
   "language": "python",
   "name": "python3"
  },
  "language_info": {
   "codemirror_mode": {
    "name": "ipython",
    "version": 3
   },
   "file_extension": ".py",
   "mimetype": "text/x-python",
   "name": "python",
   "nbconvert_exporter": "python",
   "pygments_lexer": "ipython3",
   "version": "3.12.9"
  }
 },
 "nbformat": 4,
 "nbformat_minor": 5
}
